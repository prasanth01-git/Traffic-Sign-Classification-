{
 "cells": [
  {
   "cell_type": "code",
   "execution_count": 1,
   "metadata": {},
   "outputs": [],
   "source": [
    "from keras.models import load_model\n",
    " \n",
    "# load model\n",
    "model = load_model('/home/pradeep/model.h5')"
   ]
  },
  {
   "cell_type": "code",
   "execution_count": 7,
   "metadata": {},
   "outputs": [],
   "source": [
    "import cv2\n",
    "import matplotlib.pyplot as plt\n",
    "import numpy as np"
   ]
  },
  {
   "cell_type": "code",
   "execution_count": 8,
   "metadata": {},
   "outputs": [
    {
     "name": "stdout",
     "output_type": "stream",
     "text": [
      "Sign is predicted as 80 km/h\n"
     ]
    },
    {
     "data": {
      "image/png": "[encoded data removed]",
      "text/plain": [
       "<Figure size 432x288 with 1 Axes>"
      ]
     },
     "metadata": {},
     "output_type": "display_data"
    }
   ],
   "source": [
    "img = cv2.imread('/home/pradeep/Music/2.jpg',cv2.IMREAD_GRAYSCALE)\n",
    "plt.imshow(img,cmap ='gray')\n",
    "\n",
    "img = cv2.equalizeHist(img)\n",
    "img = img/255\n",
    "img = cv2.resize(img,(60,60))\n",
    "\n",
    "img = img.reshape(1,60,60,1)\n",
    "predict_x=model.predict(img) \n",
    "classIndex=np.argmax(predict_x,axis=1)\n",
    "\n",
    "if classIndex == 0:\n",
    "    print('Sign is predicted as 20 km/h')\n",
    "if classIndex == 1:\n",
    "    print('Sign is predicted as 30 km/h')\n",
    "if classIndex == 2:\n",
    "    print('Sign is predicted as 50 km/h')\n",
    "if classIndex == 3:\n",
    "    print('Sign is predicted as 80 km/h')\n",
    "if classIndex == 4:\n",
    "    print('Sign is predicted as 100 km/h')\n",
    "if classIndex == 5:\n",
    "    print('Sign is predicted as NO HORN')\n",
    "if classIndex == 6:\n",
    "    print('Sign is predicted as GO STRAIGHT')\n",
    "if classIndex == 7:\n",
    "    print('Sign is predicted as TURN LEFT')\n",
    "if classIndex == 8:\n",
    "    print('Sign is predicted as TURN RIGHT')\n",
    "    \n"
   ]
  },
  {
   "cell_type": "code",
   "execution_count": null,
   "metadata": {},
   "outputs": [],
   "source": []
  }
 ],
 "metadata": {
  "kernelspec": {
   "display_name": "Python 3",
   "language": "python",
   "name": "python3"
  },
  "language_info": {
   "codemirror_mode": {
    "name": "ipython",
    "version": 3
   },
   "file_extension": ".py",
   "mimetype": "text/x-python",
   "name": "python",
   "nbconvert_exporter": "python",
   "pygments_lexer": "ipython3",
   "version": "3.6.9"
  }
 },
 "nbformat": 4,
 "nbformat_minor": 2
}
